{
  "nbformat": 4,
  "nbformat_minor": 0,
  "metadata": {
    "colab": {
      "provenance": [],
      "authorship_tag": "ABX9TyNI8obLmxpoVIu4z7Rvk7k7",
      "include_colab_link": true
    },
    "kernelspec": {
      "name": "python3",
      "display_name": "Python 3"
    },
    "language_info": {
      "name": "python"
    }
  },
  "cells": [
    {
      "cell_type": "markdown",
      "metadata": {
        "id": "view-in-github",
        "colab_type": "text"
      },
      "source": [
        "<a href=\"https://colab.research.google.com/github/sangeethaskumar2020/sangeethaskumar2020/blob/main/customer_churn.ipynb\" target=\"_parent\"><img src=\"https://colab.research.google.com/assets/colab-badge.svg\" alt=\"Open In Colab\"/></a>"
      ]
    },
    {
      "cell_type": "code",
      "source": [
        "import pandas as pd\n",
        "import numpy as np\n",
        "from sklearn.model_selection import train_test_split\n",
        "from sklearn.ensemble import RandomForestClassifier\n",
        "from sklearn.metrics import accuracy_score\n",
        "\n",
        "# Load dataset\n",
        "df = pd.read_csv(\"/content/customer_churn_dataset-testing-master.csv.zip\")\n",
        "\n",
        "# Clean column names (remove spaces & convert to lowercase)\n",
        "df.columns = df.columns.str.strip().str.lower()\n",
        "\n",
        "# Check if 'churn' column exists\n",
        "if 'churn' not in df.columns:\n",
        "    print(\"Error: 'churn' column not found. Available columns:\", df.columns)\n",
        "else:\n",
        "    # Fill missing values for numeric columns only\n",
        "    numeric_cols = df.select_dtypes(include=np.number).columns\n",
        "    df[numeric_cols] = df[numeric_cols].fillna(df[numeric_cols].mean())\n",
        "\n",
        "    # Convert categorical variables\n",
        "    df = pd.get_dummies(df, drop_first=True)\n",
        "\n",
        "    # Features & Target\n",
        "    X = df.drop(\"churn\", axis=1)\n",
        "    y = df[\"churn\"]\n",
        "\n",
        "    # Split data\n",
        "    X_train, X_test, y_train, y_test = train_test_split(X, y, test_size=0.2, random_state=42)\n",
        "\n",
        "    # Train model\n",
        "    model = RandomForestClassifier(n_estimators=100, random_state=42)\n",
        "    model.fit(X_train, y_train)\n",
        "\n",
        "    # Predict\n",
        "    y_pred = model.predict(X_test)\n",
        "\n",
        "    # Evaluate\n",
        "    print(\"Accuracy:\", accuracy_score(y_test, y_pred))\n"
      ],
      "metadata": {
        "colab": {
          "base_uri": "https://localhost:8080/"
        },
        "id": "E3AWXReM5R4D",
        "outputId": "07cd1738-d2dd-4298-e9ee-9b44778f5472"
      },
      "execution_count": null,
      "outputs": [
        {
          "output_type": "stream",
          "name": "stdout",
          "text": [
            "Accuracy: 0.9964271844660194\n"
          ]
        }
      ]
    },
    {
      "cell_type": "code",
      "source": [
        "import pandas as pd\n",
        "import numpy as np\n",
        "import matplotlib.pyplot as plt\n",
        "import seaborn as sns\n",
        "from sklearn.model_selection import train_test_split\n",
        "from sklearn.ensemble import RandomForestClassifier\n",
        "from sklearn.metrics import accuracy_score, classification_report, confusion_matrix\n",
        "import xgboost as xgb\n",
        "from xgboost import XGBClassifier\n",
        "\n",
        "# Load dataset\n",
        "df = pd.read_csv(\"/content/customer_churn_dataset-testing-master.csv.zip\")\n",
        "\n",
        "# Clean column names\n",
        "df.columns = df.columns.str.strip().str.lower()\n",
        "\n",
        "# Check for missing values and fill only numeric columns\n",
        "numeric_cols = df.select_dtypes(include=[np.number]).columns  # Select numeric columns\n",
        "df[numeric_cols] = df[numeric_cols].fillna(df[numeric_cols].mean())  # Fill missing values\n",
        "\n",
        "# Encode categorical variables\n",
        "df = pd.get_dummies(df, drop_first=True)\n",
        "\n",
        "# Define features and target variable\n",
        "X = df.drop(\"churn\", axis=1)\n",
        "y = df[\"churn\"]\n",
        "\n",
        "# Split data into training and testing sets\n",
        "X_train, X_test, y_train, y_test = train_test_split(X, y, test_size=0.2, random_state=42)\n",
        "\n",
        "# Train Random Forest Model\n",
        "rf_model = RandomForestClassifier(n_estimators=100, random_state=42)\n",
        "rf_model.fit(X_train, y_train)\n",
        "\n",
        "# Predict using Random Forest\n",
        "y_pred_rf = rf_model.predict(X_test)\n",
        "\n",
        "# Evaluate Random Forest\n",
        "print(\"Random Forest Accuracy:\", accuracy_score(y_test, y_pred_rf))\n",
        "print(\"Classification Report:\\n\", classification_report(y_test, y_pred_rf))\n",
        "print(\"Confusion Matrix:\\n\", confusion_matrix(y_test, y_pred_rf))\n",
        "\n",
        "# Train XGBoost Model (Fixed Warning)\n",
        "xgb_model = XGBClassifier(eval_metric='logloss')  # Removed use_label_encoder=False\n",
        "xgb_model.fit(X_train, y_train)\n",
        "\n",
        "# Predict using XGBoost\n",
        "y_pred_xgb = xgb_model.predict(X_test)\n",
        "\n",
        "# Evaluate XGBoost\n",
        "print(\"XGBoost Accuracy:\", accuracy_score(y_test, y_pred_xgb))\n",
        "print(\"Classification Report:\\n\", classification_report(y_test, y_pred_xgb))\n",
        "print(\"Confusion Matrix:\\n\", confusion_matrix(y_test, y_pred_xgb))\n",
        "\n",
        "# Compare Results\n",
        "models = [\"Random Forest\", \"XGBoost\"]\n",
        "accuracies = [accuracy_score(y_test, y_pred_rf), accuracy_score(y_test, y_pred_xgb)]\n",
        "plt.figure(figsize=(8,5))\n",
        "sns.barplot(x=models, y=accuracies)\n",
        "plt.ylabel(\"Accuracy\")\n",
        "plt.title(\"Model Comparison\")\n",
        "plt.show()\n"
      ],
      "metadata": {
        "colab": {
          "base_uri": "https://localhost:8080/",
          "height": 954
        },
        "id": "ds3dEepPJbzK",
        "outputId": "1f33cd20-6c34-4b2e-8fb0-9318f177a2fe"
      },
      "execution_count": null,
      "outputs": [
        {
          "output_type": "stream",
          "name": "stdout",
          "text": [
            "Random Forest Accuracy: 0.9964271844660194\n",
            "Classification Report:\n",
            "               precision    recall  f1-score   support\n",
            "\n",
            "           0       0.99      1.00      1.00      6793\n",
            "           1       1.00      0.99      1.00      6082\n",
            "\n",
            "    accuracy                           1.00     12875\n",
            "   macro avg       1.00      1.00      1.00     12875\n",
            "weighted avg       1.00      1.00      1.00     12875\n",
            "\n",
            "Confusion Matrix:\n",
            " [[6790    3]\n",
            " [  43 6039]]\n",
            "XGBoost Accuracy: 0.9999223300970874\n",
            "Classification Report:\n",
            "               precision    recall  f1-score   support\n",
            "\n",
            "           0       1.00      1.00      1.00      6793\n",
            "           1       1.00      1.00      1.00      6082\n",
            "\n",
            "    accuracy                           1.00     12875\n",
            "   macro avg       1.00      1.00      1.00     12875\n",
            "weighted avg       1.00      1.00      1.00     12875\n",
            "\n",
            "Confusion Matrix:\n",
            " [[6792    1]\n",
            " [   0 6082]]\n"
          ]
        },
        {
          "output_type": "display_data",
          "data": {
            "text/plain": [
              "<Figure size 800x500 with 1 Axes>"
            ],
            "image/png": "[encoded data removed]"
          },
          "metadata": {}
        }
      ]
    }
  ]
}